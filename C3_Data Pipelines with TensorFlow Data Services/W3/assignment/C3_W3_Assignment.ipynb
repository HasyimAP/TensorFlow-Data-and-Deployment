{
  "cells": [
    {
      "cell_type": "markdown",
      "metadata": {
        "colab_type": "text",
        "id": "view-in-github"
      },
      "source": [
        "<a href=\"https://colab.research.google.com/github/https-deeplearning-ai/tensorflow-2-public/blob/adding_C3/C3/W3/assignment/C3_W3_Assignment.ipynb\" target=\"_parent\"><img src=\"https://colab.research.google.com/assets/colab-badge.svg\" alt=\"Open In Colab\"/></a>"
      ]
    },
    {
      "cell_type": "markdown",
      "metadata": {
        "id": "c05P9g5WjizZ"
      },
      "source": [
        "# Classify Structured Data"
      ]
    },
    {
      "cell_type": "markdown",
      "metadata": {
        "id": "VxyBFc_kKazA"
      },
      "source": [
        "## Import TensorFlow and Other Libraries"
      ]
    },
    {
      "cell_type": "code",
      "execution_count": null,
      "metadata": {
        "id": "9dEreb4QKizj"
      },
      "outputs": [],
      "source": [
        "import pandas as pd\n",
        "import tensorflow as tf\n",
        "\n",
        "from tensorflow.keras import layers\n",
        "from tensorflow import feature_column\n",
        "\n",
        "from os import getcwd\n",
        "from sklearn.model_selection import train_test_split"
      ]
    },
    {
      "cell_type": "markdown",
      "metadata": {
        "id": "KCEhSZcULZ9n"
      },
      "source": [
        "## Use Pandas to Create a Dataframe\n",
        "\n",
        "[Pandas](https://pandas.pydata.org/) is a Python library with many helpful utilities for loading and working with structured data. We will use Pandas to download the dataset and load it into a dataframe."
      ]
    },
    {
      "cell_type": "code",
      "execution_count": null,
      "metadata": {
        "id": "REZ57BXCLdfG"
      },
      "outputs": [],
      "source": [
        "# if you are running your notebook on Coursera\n",
        "filePath = f\"{getcwd()}/data/heart.csv\"\n",
        "\n",
        "# if you are running your notebook on your local machine\n",
        "# filePath = \"./data/heart.csv\"\n",
        "\n",
        "# if you are running your notebook on Colab\n",
        "# !wget 'https://drive.google.com/uc?export=download&id=109ZN30t5Aa0wq1OuwdE1klBZk4nCHtN2'\n",
        "# filePath = \"uc?export=download&id=109ZN30t5Aa0wq1OuwdE1klBZk4nCHtN2\"\n",
        "\n",
        "dataframe = pd.read_csv(filePath)\n",
        "dataframe.head()"
      ]
    },
    {
      "cell_type": "markdown",
      "metadata": {
        "id": "u0zhLtQqMPem"
      },
      "source": [
        "## Split the Dataframe Into Train, Validation, and Test Sets\n",
        "\n",
        "The dataset we downloaded was a single CSV file. We will split this into train, validation, and test sets."
      ]
    },
    {
      "cell_type": "code",
      "execution_count": null,
      "metadata": {
        "id": "YEOpw7LhMYsI"
      },
      "outputs": [],
      "source": [
        "train, test = train_test_split(dataframe, test_size=0.2)\n",
        "train, val = train_test_split(train, test_size=0.2)\n",
        "print(len(train), 'train examples')\n",
        "print(len(val), 'validation examples')\n",
        "print(len(test), 'test examples')"
      ]
    },
    {
      "cell_type": "markdown",
      "metadata": {
        "id": "84ef46LXMfvu"
      },
      "source": [
        "## Create an Input Pipeline Using `tf.data`\n",
        "\n",
        "Next, we will wrap the dataframes with [tf.data](https://www.tensorflow.org/guide/datasets). This will enable us  to use feature columns as a bridge to map from the columns in the Pandas dataframe to features used to train the model. If we were working with a very large CSV file (so large that it does not fit into memory), we would use tf.data to read it from disk directly."
      ]
    },
    {
      "cell_type": "code",
      "execution_count": null,
      "metadata": {
        "id": "42nXwT0pDp7A"
      },
      "outputs": [],
      "source": [
        "# EXERCISE: A utility method to create a tf.data dataset from a Pandas Dataframe.\n",
        "\n",
        "def df_to_dataset(dataframe, shuffle=True, batch_size=32):\n",
        "    dataframe = dataframe.copy()\n",
        "    \n",
        "    # Use Pandas dataframe's pop method to get the list of targets.\n",
        "    labels = dataframe.pop('target') # YOUR CODE HERE\n",
        "    \n",
        "    # Create a tf.data.Dataset from the dataframe and labels.\n",
        "    ds = tf.data.Dataset.from_tensor_slices((dict(dataframe), labels)) # YOUR CODE HERE\n",
        "    \n",
        "    if shuffle:\n",
        "        # Shuffle dataset.\n",
        "        ds = ds.shuffle(buffer_size=len(dataframe)) # YOUR CODE HERE\n",
        "        \n",
        "    # Batch dataset with specified batch_size parameter.\n",
        "    ds = ds.batch(batch_size) # YOUR CODE HERE\n",
        "    \n",
        "    return ds"
      ]
    },
    {
      "cell_type": "code",
      "execution_count": null,
      "metadata": {
        "id": "CXbbXkJvMy34"
      },
      "outputs": [],
      "source": [
        "batch_size = 5 # A small batch sized is used for demonstration purposes\n",
        "train_ds = df_to_dataset(train, batch_size=batch_size)\n",
        "val_ds = df_to_dataset(val, shuffle=False, batch_size=batch_size)\n",
        "test_ds = df_to_dataset(test, shuffle=False, batch_size=batch_size)"
      ]
    },
    {
      "cell_type": "markdown",
      "metadata": {
        "id": "qRLGSMDzM-dl"
      },
      "source": [
        "## Understand the Input Pipeline\n",
        "\n",
        "Now that we have created the input pipeline, let's call it to see the format of the data it returns. We have used a small batch size to keep the output readable."
      ]
    },
    {
      "cell_type": "code",
      "execution_count": null,
      "metadata": {
        "id": "CSBo3dUVNFc9"
      },
      "outputs": [],
      "source": [
        "for feature_batch, label_batch in train_ds.take(1):\n",
        "    print('Every feature:', list(feature_batch.keys()))\n",
        "    print('A batch of ages:', feature_batch['age'])\n",
        "    print('A batch of targets:', label_batch )"
      ]
    },
    {
      "cell_type": "markdown",
      "metadata": {
        "id": "OT5N6Se-NQsC"
      },
      "source": [
        "We can see that the dataset returns a dictionary of column names (from the dataframe) that map to column values from rows in the dataframe."
      ]
    },
    {
      "cell_type": "markdown",
      "metadata": {
        "id": "ttIvgLRaNoOQ"
      },
      "source": [
        "## Create Several Types of Feature Columns\n",
        "\n",
        "TensorFlow provides many types of feature columns. In this section, we will create several types of feature columns, and demonstrate how they transform a column from the dataframe."
      ]
    },
    {
      "cell_type": "code",
      "execution_count": null,
      "metadata": {
        "id": "mxwiHFHuNhmf"
      },
      "outputs": [],
      "source": [
        "# Try to demonstrate several types of feature columns by getting an example.\n",
        "example_batch = next(iter(train_ds))[0]"
      ]
    },
    {
      "cell_type": "code",
      "execution_count": null,
      "metadata": {
        "id": "0wfLB8Q3N3UH"
      },
      "outputs": [],
      "source": [
        "# A utility method to create a feature column and to transform a batch of data.\n",
        "def demo(feature_column):\n",
        "    feature_layer = layers.DenseFeatures(feature_column, dtype='float64')\n",
        "    print(feature_layer(example_batch).numpy())"
      ]
    },
    {
      "cell_type": "markdown",
      "metadata": {
        "id": "Q7OEKe82N-Qb"
      },
      "source": [
        "### Numeric Columns\n",
        "\n",
        "The output of a feature column becomes the input to the model (using the demo function defined above, we will be able to see exactly how each column from the dataframe is transformed). A [numeric column](https://www.tensorflow.org/api_docs/python/tf/feature_column/numeric_column) is the simplest type of column. It is used to represent real valued features. "
      ]
    },
    {
      "cell_type": "code",
      "execution_count": null,
      "metadata": {
        "id": "QZTZ0HnHOCxC"
      },
      "outputs": [],
      "source": [
        "# EXERCISE: Create a numeric feature column out of 'age' and demo it.\n",
        "age = feature_column.numeric_column('age') # YOUR CODE HERE\n",
        "\n",
        "demo(age)"
      ]
    },
    {
      "cell_type": "markdown",
      "metadata": {
        "id": "7a6ddSyzOKpq"
      },
      "source": [
        "In the heart disease dataset, most columns from the dataframe are numeric."
      ]
    },
    {
      "cell_type": "markdown",
      "metadata": {
        "id": "IcSxUoYgOlA1"
      },
      "source": [
        "### Bucketized Columns\n",
        "\n",
        "Often, you don't want to feed a number directly into the model, but instead split its value into different categories based on numerical ranges. Consider raw data that represents a person's age. Instead of representing age as a numeric column, we could split the age into several buckets using a [bucketized column](https://www.tensorflow.org/api_docs/python/tf/feature_column/bucketized_column). "
      ]
    },
    {
      "cell_type": "code",
      "execution_count": null,
      "metadata": {
        "id": "wJ4Wt3SAOpTQ"
      },
      "outputs": [],
      "source": [
        "# EXERCISE: Create a bucketized feature column out of 'age' with\n",
        "# the following boundaries and demo it.\n",
        "boundaries = [18, 25, 30, 35, 40, 45, 50, 55, 60, 65]\n",
        "\n",
        "age_buckets = feature_column.bucketized_column(age, boundaries=boundaries) # YOUR CODE HERE \n",
        "\n",
        "demo(age_buckets)"
      ]
    },
    {
      "cell_type": "markdown",
      "metadata": {
        "id": "-me1NKJ4BIEB"
      },
      "source": [
        "Notice the one-hot values above describe which age range each row matches."
      ]
    },
    {
      "cell_type": "markdown",
      "metadata": {
        "id": "r1tArzewPb-b"
      },
      "source": [
        "### Categorical Columns\n",
        "\n",
        "In this dataset, thal is represented as a string (e.g. 'fixed', 'normal', or 'reversible'). We cannot feed strings directly to a model. Instead, we must first map them to numeric values. The categorical vocabulary columns provide a way to represent strings as a one-hot vector (much like you have seen above with age buckets). \n",
        "\n",
        "**Note**: You will probably see some warning messages when running some of the code cell below. These warnings have to do with software updates and should not cause any errors or prevent your code from running."
      ]
    },
    {
      "cell_type": "code",
      "execution_count": null,
      "metadata": {
        "id": "DJ6QnSHkPtOC"
      },
      "outputs": [],
      "source": [
        "# EXERCISE: Create a categorical vocabulary column out of the\n",
        "# above mentioned categories with the key specified as 'thal'.\n",
        "thal = feature_column.categorical_column_with_vocabulary_list('thal', ['fixed', 'normal', 'reversible']) # YOUR CODE HERE\n",
        "\n",
        "# EXERCISE: Create an indicator column out of the created categorical column.\n",
        "thal_one_hot = feature_column.indicator_column(thal) # YOUR CODE HERE\n",
        "\n",
        "demo(thal_one_hot)"
      ]
    },
    {
      "cell_type": "markdown",
      "metadata": {
        "id": "zQT4zecNBtji"
      },
      "source": [
        "The vocabulary can be passed as a list using [categorical_column_with_vocabulary_list](https://www.tensorflow.org/api_docs/python/tf/feature_column/categorical_column_with_vocabulary_list), or loaded from a file using [categorical_column_with_vocabulary_file](https://www.tensorflow.org/api_docs/python/tf/feature_column/categorical_column_with_vocabulary_file)."
      ]
    },
    {
      "cell_type": "markdown",
      "metadata": {
        "id": "LEFPjUr6QmwS"
      },
      "source": [
        "### Embedding Columns\n",
        "\n",
        "Suppose instead of having just a few possible strings, we have thousands (or more) values per category. For a number of reasons, as the number of categories grow large, it becomes infeasible to train a neural network using one-hot encodings. We can use an embedding column to overcome this limitation. Instead of representing the data as a one-hot vector of many dimensions, an [embedding column](https://www.tensorflow.org/api_docs/python/tf/feature_column/embedding_column) represents that data as a lower-dimensional, dense vector in which each cell can contain any number, not just 0 or 1. You can tune the size of the embedding with the `dimension` parameter."
      ]
    },
    {
      "cell_type": "code",
      "execution_count": null,
      "metadata": {
        "id": "hSlohmr2Q_UU"
      },
      "outputs": [],
      "source": [
        "# EXERCISE: Create an embedding column out of the categorical\n",
        "# vocabulary you just created (thal). Set the size of the \n",
        "# embedding to 8, by using the dimension parameter.\n",
        "\n",
        "thal_embedding = feature_column.embedding_column(thal, dimension=8) # YOUR CODE HERE\n",
        "\n",
        "\n",
        "demo(thal_embedding)"
      ]
    },
    {
      "cell_type": "markdown",
      "metadata": {
        "id": "urFCAvTVRMpB"
      },
      "source": [
        "### Hashed Feature Columns\n",
        "\n",
        "Another way to represent a categorical column with a large number of values is to use a [categorical_column_with_hash_bucket](https://www.tensorflow.org/api_docs/python/tf/feature_column/categorical_column_with_hash_bucket). This feature column calculates a hash value of the input, then selects one of the `hash_bucket_size` buckets to encode a string. When using this column, you do not need to provide the vocabulary, and you can choose to make the number of hash buckets significantly smaller than the number of actual categories to save space."
      ]
    },
    {
      "cell_type": "code",
      "execution_count": null,
      "metadata": {
        "id": "YHU_Aj2nRRDC"
      },
      "outputs": [],
      "source": [
        "# EXERCISE: Create a hashed feature column with 'thal' as the key and \n",
        "# 1000 hash buckets.\n",
        "thal_hashed = feature_column.categorical_column_with_hash_bucket('thal', hash_bucket_size=1000) # YOUR CODE HERE\n",
        "\n",
        "demo(feature_column.indicator_column(thal_hashed))"
      ]
    },
    {
      "cell_type": "markdown",
      "metadata": {
        "id": "fB94M27DRXtZ"
      },
      "source": [
        "### Crossed Feature Columns\n",
        "Combining features into a single feature, better known as [feature crosses](https://developers.google.com/machine-learning/glossary/#feature_cross), enables a model to learn separate weights for each combination of features. Here, we will create a new feature that is the cross of age and thal. Note that `crossed_column` does not build the full table of all possible combinations (which could be very large). Instead, it is backed by a `hashed_column`, so you can choose how large the table is."
      ]
    },
    {
      "cell_type": "code",
      "execution_count": null,
      "metadata": {
        "id": "oaPVERd9Rep6"
      },
      "outputs": [],
      "source": [
        "# EXERCISE: Create a crossed column using the bucketized column (age_buckets),\n",
        "# the categorical vocabulary column (thal) previously created, and 1000 hash buckets.\n",
        "crossed_feature = feature_column.crossed_column([age_buckets, thal], hash_bucket_size=1000) # YOUR CODE HERE\n",
        "\n",
        "demo(feature_column.indicator_column(crossed_feature))"
      ]
    },
    {
      "cell_type": "markdown",
      "metadata": {
        "id": "ypkI9zx6Rj1q"
      },
      "source": [
        "## Choose Which Columns to Use\n",
        "\n",
        "We have seen how to use several types of feature columns. Now we will use them to train a model. The goal of this exercise is to show you the complete code needed to work with feature columns. We have selected a few columns to train our model below arbitrarily.\n",
        "\n",
        "If your aim is to build an accurate model, try a larger dataset of your own, and think carefully about which features are the most meaningful to include, and how they should be represented."
      ]
    },
    {
      "cell_type": "code",
      "execution_count": null,
      "metadata": {
        "id": "Eu8bJWmCScfC"
      },
      "outputs": [],
      "source": [
        "dataframe.dtypes"
      ]
    },
    {
      "cell_type": "markdown",
      "metadata": {
        "id": "2pV4tSI3SkuX"
      },
      "source": [
        "You can use the above list of column datatypes to map the appropriate feature column to every column in the dataframe."
      ]
    },
    {
      "cell_type": "code",
      "execution_count": null,
      "metadata": {
        "id": "4PlLY7fORuzA"
      },
      "outputs": [],
      "source": [
        "# EXERCISE: Fill in the missing code below\n",
        "feature_columns = []\n",
        "\n",
        "# Numeric Cols.\n",
        "# Create a list of numeric columns. Use the following list of columns\n",
        "# that have a numeric datatype: ['age', 'trestbps', 'chol', 'thalach', 'oldpeak', 'slope', 'ca'].\n",
        "numeric_columns = ['age', 'trestbps', 'chol', 'thalach', 'oldpeak', 'slope', 'ca'] # YOUR CODE HERE\n",
        "\n",
        "for header in numeric_columns:\n",
        "    # Create a numeric feature column  out of the header.\n",
        "    numeric_feature_column = feature_column.numeric_column(header) # YOUR CODE HERE\n",
        "    \n",
        "    feature_columns.append(numeric_feature_column)\n",
        "\n",
        "# Bucketized Cols.\n",
        "# Create a bucketized feature column out of the age column (numeric column)\n",
        "# that you've already created. Use the following boundaries:\n",
        "# [18, 25, 30, 35, 40, 45, 50, 55, 60, 65]\n",
        "age_buckets = feature_column.bucketized_column(feature_column.numeric_column('age'), boundaries=[18, 25, 30, 35, 40, 45, 50, 55, 60, 65]) # YOUR CODE HERE\n",
        "\n",
        "feature_columns.append(age_buckets)\n",
        "\n",
        "# Indicator Cols.\n",
        "# Create a categorical vocabulary column out of the categories\n",
        "# ['fixed', 'normal', 'reversible'] with the key specified as 'thal'.\n",
        "thal = feature_column.categorical_column_with_vocabulary_list('thal', ['fixed', 'normal', 'reversible']) # YOUR CODE HERE\n",
        "\n",
        "# Create an indicator column out of the created thal categorical column\n",
        "thal_one_hot = feature_column.indicator_column(thal) # YOUR CODE HERE\n",
        "\n",
        "feature_columns.append(thal_one_hot)\n",
        "\n",
        "# Embedding Cols.\n",
        "# Create an embedding column out of the categorical vocabulary you\n",
        "# just created (thal). Set the size of the embedding to 8, by using\n",
        "# the dimension parameter.\n",
        "thal_embedding = feature_column.embedding_column(thal, dimension=8) # YOUR CODE HERE\n",
        "\n",
        "feature_columns.append(thal_embedding)\n",
        "\n",
        "# Crossed Cols.\n",
        "# Create a crossed column using the bucketized column (age_buckets),\n",
        "# the categorical vocabulary column (thal) previously created, and 1000 hash buckets.\n",
        "crossed_feature = feature_column.crossed_column([age_buckets, thal], hash_bucket_size=1000) # YOUR CODE HERE\n",
        "\n",
        "# Create an indicator column out of the crossed column created above to one-hot encode it.\n",
        "crossed_feature = feature_column.indicator_column(crossed_feature) # YOUR CODE HERE\n",
        "\n",
        "feature_columns.append(crossed_feature)"
      ]
    },
    {
      "cell_type": "markdown",
      "metadata": {
        "id": "M-nDp8krS_ts"
      },
      "source": [
        "### Create a Feature Layer\n",
        "\n",
        "Now that we have defined our feature columns, we will use a [DenseFeatures](https://www.tensorflow.org/versions/r2.0/api_docs/python/tf/keras/layers/DenseFeatures) layer to input them to our Keras model."
      ]
    },
    {
      "cell_type": "code",
      "execution_count": null,
      "metadata": {
        "id": "6o-El1R2TGQP"
      },
      "outputs": [],
      "source": [
        "# EXERCISE: Create a Keras DenseFeatures layer and pass the feature_columns you just created.\n",
        "feature_layer = tf.keras.layers.DenseFeatures(feature_columns) # YOUR CODE HERE"
      ]
    },
    {
      "cell_type": "markdown",
      "metadata": {
        "id": "8cf6vKfgTH0U"
      },
      "source": [
        "Earlier, we used a small batch size to demonstrate how feature columns worked. We create a new input pipeline with a larger batch size."
      ]
    },
    {
      "cell_type": "code",
      "execution_count": null,
      "metadata": {
        "id": "gcemszoGSse_"
      },
      "outputs": [],
      "source": [
        "batch_size = 32\n",
        "train_ds = df_to_dataset(train, batch_size=batch_size)\n",
        "val_ds = df_to_dataset(val, shuffle=False, batch_size=batch_size)\n",
        "test_ds = df_to_dataset(test, shuffle=False, batch_size=batch_size)"
      ]
    },
    {
      "cell_type": "markdown",
      "metadata": {
        "id": "bBx4Xu0eTXWq"
      },
      "source": [
        "## Create, Compile, and Train the Model"
      ]
    },
    {
      "cell_type": "code",
      "execution_count": null,
      "metadata": {
        "id": "_YJPPb3xTPeZ"
      },
      "outputs": [],
      "source": [
        "model = tf.keras.Sequential([\n",
        "        feature_layer,\n",
        "        layers.Dense(128, activation='relu'),\n",
        "        layers.Dense(128, activation='relu'),\n",
        "        layers.Dense(1, activation='sigmoid')\n",
        "])\n",
        "\n",
        "model.compile(optimizer='adam',\n",
        "              loss='binary_crossentropy',\n",
        "              metrics=['accuracy'])\n",
        "\n",
        "model.fit(train_ds,\n",
        "          validation_data=val_ds,\n",
        "          epochs=100)"
      ]
    },
    {
      "cell_type": "code",
      "execution_count": null,
      "metadata": {
        "id": "GnFmMOW0Tcaa"
      },
      "outputs": [],
      "source": [
        "loss, accuracy = model.evaluate(test_ds)\n",
        "print(\"Accuracy\", accuracy)"
      ]
    },
    {
      "cell_type": "markdown",
      "metadata": {
        "id": "4CEPl277Dp7M"
      },
      "source": [
        "# Submission Instructions"
      ]
    },
    {
      "cell_type": "code",
      "execution_count": null,
      "metadata": {
        "id": "mPEjmg-9Dp7M"
      },
      "outputs": [],
      "source": [
        "# Now click the 'Submit Assignment' button above."
      ]
    },
    {
      "cell_type": "markdown",
      "metadata": {
        "id": "uKOmD3u0Dp7M"
      },
      "source": [
        "# When you're done or would like to take a break, please run the two cells below to save your work and close the Notebook. This frees up resources for your fellow learners."
      ]
    },
    {
      "cell_type": "code",
      "execution_count": null,
      "metadata": {
        "id": "zOAzNG8gDp7M"
      },
      "outputs": [],
      "source": [
        "%%javascript\n",
        "<!-- Save the notebook -->\n",
        "IPython.notebook.save_checkpoint();"
      ]
    },
    {
      "cell_type": "code",
      "execution_count": null,
      "metadata": {
        "id": "NH-rlfySDp7N"
      },
      "outputs": [],
      "source": [
        "%%javascript\n",
        "<!-- Shutdown and close the notebook -->\n",
        "window.onbeforeunload = null\n",
        "window.close();\n",
        "IPython.notebook.session.delete();"
      ]
    }
  ],
  "metadata": {
    "accelerator": "GPU",
    "colab": {
      "collapsed_sections": [],
      "include_colab_link": true,
      "name": "C3_W3_Assignment.ipynb",
      "provenance": []
    },
    "coursera": {
      "schema_names": [
        "tensorflow-datasets-w3"
      ]
    },
    "kernelspec": {
      "display_name": "Python 3",
      "language": "python",
      "name": "python3"
    },
    "language_info": {
      "codemirror_mode": {
        "name": "ipython",
        "version": 3
      },
      "file_extension": ".py",
      "mimetype": "text/x-python",
      "name": "python",
      "nbconvert_exporter": "python",
      "pygments_lexer": "ipython3",
      "version": "3.9.0"
    }
  },
  "nbformat": 4,
  "nbformat_minor": 0
}
